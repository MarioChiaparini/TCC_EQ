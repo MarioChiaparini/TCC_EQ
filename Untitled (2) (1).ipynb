{
 "cells": [
  {
   "cell_type": "code",
   "execution_count": 9,
   "id": "0c6ecfc5-a5a8-4561-85c9-16fc3ee930bc",
   "metadata": {},
   "outputs": [],
   "source": [
    "import pandas as pd\n",
    "dataset = pd.read_excel(\"Default Dataset.xlsx\")"
   ]
  },
  {
   "cell_type": "code",
   "execution_count": 10,
   "id": "ca5524ca",
   "metadata": {},
   "outputs": [],
   "source": [
    "import numpy as np"
   ]
  },
  {
   "cell_type": "code",
   "execution_count": 11,
   "id": "05cc6067",
   "metadata": {},
   "outputs": [
    {
     "ename": "ValueError",
     "evalue": "Length mismatch: Expected axis has 2 elements, new values have 4 elements",
     "output_type": "error",
     "traceback": [
      "\u001b[1;31m---------------------------------------------------------------------------\u001b[0m",
      "\u001b[1;31mValueError\u001b[0m                                Traceback (most recent call last)",
      "\u001b[1;32m<ipython-input-11-456ba8ffa3a4>\u001b[0m in \u001b[0;36m<module>\u001b[1;34m\u001b[0m\n\u001b[1;32m----> 1\u001b[1;33m \u001b[0mdataset\u001b[0m\u001b[1;33m.\u001b[0m\u001b[0mcolumns\u001b[0m \u001b[1;33m=\u001b[0m \u001b[1;33m[\u001b[0m\u001b[1;34m'x1'\u001b[0m\u001b[1;33m,\u001b[0m\u001b[1;34m'x2'\u001b[0m\u001b[1;33m,\u001b[0m\u001b[1;34m'x3'\u001b[0m\u001b[1;33m,\u001b[0m\u001b[1;34m'y'\u001b[0m\u001b[1;33m]\u001b[0m\u001b[1;33m\u001b[0m\u001b[1;33m\u001b[0m\u001b[0m\n\u001b[0m",
      "\u001b[1;32m~\\Anaconda3\\lib\\site-packages\\pandas\\core\\generic.py\u001b[0m in \u001b[0;36m__setattr__\u001b[1;34m(self, name, value)\u001b[0m\n\u001b[0;32m   5476\u001b[0m         \u001b[1;32mtry\u001b[0m\u001b[1;33m:\u001b[0m\u001b[1;33m\u001b[0m\u001b[1;33m\u001b[0m\u001b[0m\n\u001b[0;32m   5477\u001b[0m             \u001b[0mobject\u001b[0m\u001b[1;33m.\u001b[0m\u001b[0m__getattribute__\u001b[0m\u001b[1;33m(\u001b[0m\u001b[0mself\u001b[0m\u001b[1;33m,\u001b[0m \u001b[0mname\u001b[0m\u001b[1;33m)\u001b[0m\u001b[1;33m\u001b[0m\u001b[1;33m\u001b[0m\u001b[0m\n\u001b[1;32m-> 5478\u001b[1;33m             \u001b[1;32mreturn\u001b[0m \u001b[0mobject\u001b[0m\u001b[1;33m.\u001b[0m\u001b[0m__setattr__\u001b[0m\u001b[1;33m(\u001b[0m\u001b[0mself\u001b[0m\u001b[1;33m,\u001b[0m \u001b[0mname\u001b[0m\u001b[1;33m,\u001b[0m \u001b[0mvalue\u001b[0m\u001b[1;33m)\u001b[0m\u001b[1;33m\u001b[0m\u001b[1;33m\u001b[0m\u001b[0m\n\u001b[0m\u001b[0;32m   5479\u001b[0m         \u001b[1;32mexcept\u001b[0m \u001b[0mAttributeError\u001b[0m\u001b[1;33m:\u001b[0m\u001b[1;33m\u001b[0m\u001b[1;33m\u001b[0m\u001b[0m\n\u001b[0;32m   5480\u001b[0m             \u001b[1;32mpass\u001b[0m\u001b[1;33m\u001b[0m\u001b[1;33m\u001b[0m\u001b[0m\n",
      "\u001b[1;32mpandas\\_libs\\properties.pyx\u001b[0m in \u001b[0;36mpandas._libs.properties.AxisProperty.__set__\u001b[1;34m()\u001b[0m\n",
      "\u001b[1;32m~\\Anaconda3\\lib\\site-packages\\pandas\\core\\generic.py\u001b[0m in \u001b[0;36m_set_axis\u001b[1;34m(self, axis, labels)\u001b[0m\n\u001b[0;32m    668\u001b[0m     \u001b[1;32mdef\u001b[0m \u001b[0m_set_axis\u001b[0m\u001b[1;33m(\u001b[0m\u001b[0mself\u001b[0m\u001b[1;33m,\u001b[0m \u001b[0maxis\u001b[0m\u001b[1;33m:\u001b[0m \u001b[0mint\u001b[0m\u001b[1;33m,\u001b[0m \u001b[0mlabels\u001b[0m\u001b[1;33m:\u001b[0m \u001b[0mIndex\u001b[0m\u001b[1;33m)\u001b[0m \u001b[1;33m->\u001b[0m \u001b[1;32mNone\u001b[0m\u001b[1;33m:\u001b[0m\u001b[1;33m\u001b[0m\u001b[1;33m\u001b[0m\u001b[0m\n\u001b[0;32m    669\u001b[0m         \u001b[0mlabels\u001b[0m \u001b[1;33m=\u001b[0m \u001b[0mensure_index\u001b[0m\u001b[1;33m(\u001b[0m\u001b[0mlabels\u001b[0m\u001b[1;33m)\u001b[0m\u001b[1;33m\u001b[0m\u001b[1;33m\u001b[0m\u001b[0m\n\u001b[1;32m--> 670\u001b[1;33m         \u001b[0mself\u001b[0m\u001b[1;33m.\u001b[0m\u001b[0m_mgr\u001b[0m\u001b[1;33m.\u001b[0m\u001b[0mset_axis\u001b[0m\u001b[1;33m(\u001b[0m\u001b[0maxis\u001b[0m\u001b[1;33m,\u001b[0m \u001b[0mlabels\u001b[0m\u001b[1;33m)\u001b[0m\u001b[1;33m\u001b[0m\u001b[1;33m\u001b[0m\u001b[0m\n\u001b[0m\u001b[0;32m    671\u001b[0m         \u001b[0mself\u001b[0m\u001b[1;33m.\u001b[0m\u001b[0m_clear_item_cache\u001b[0m\u001b[1;33m(\u001b[0m\u001b[1;33m)\u001b[0m\u001b[1;33m\u001b[0m\u001b[1;33m\u001b[0m\u001b[0m\n\u001b[0;32m    672\u001b[0m \u001b[1;33m\u001b[0m\u001b[0m\n",
      "\u001b[1;32m~\\Anaconda3\\lib\\site-packages\\pandas\\core\\internals\\managers.py\u001b[0m in \u001b[0;36mset_axis\u001b[1;34m(self, axis, new_labels)\u001b[0m\n\u001b[0;32m    218\u001b[0m \u001b[1;33m\u001b[0m\u001b[0m\n\u001b[0;32m    219\u001b[0m         \u001b[1;32mif\u001b[0m \u001b[0mnew_len\u001b[0m \u001b[1;33m!=\u001b[0m \u001b[0mold_len\u001b[0m\u001b[1;33m:\u001b[0m\u001b[1;33m\u001b[0m\u001b[1;33m\u001b[0m\u001b[0m\n\u001b[1;32m--> 220\u001b[1;33m             raise ValueError(\n\u001b[0m\u001b[0;32m    221\u001b[0m                 \u001b[1;34mf\"Length mismatch: Expected axis has {old_len} elements, new \"\u001b[0m\u001b[1;33m\u001b[0m\u001b[1;33m\u001b[0m\u001b[0m\n\u001b[0;32m    222\u001b[0m                 \u001b[1;34mf\"values have {new_len} elements\"\u001b[0m\u001b[1;33m\u001b[0m\u001b[1;33m\u001b[0m\u001b[0m\n",
      "\u001b[1;31mValueError\u001b[0m: Length mismatch: Expected axis has 2 elements, new values have 4 elements"
     ]
    }
   ],
   "source": [
    "dataset.columns = ['x1','x2','x3','y']"
   ]
  },
  {
   "cell_type": "code",
   "execution_count": 12,
   "id": "e434d334",
   "metadata": {},
   "outputs": [],
   "source": [
    "data = pd.DataFrame(dataset)"
   ]
  },
  {
   "cell_type": "code",
   "execution_count": 21,
   "id": "f6b35cc5",
   "metadata": {},
   "outputs": [],
   "source": [
    "X = np.array(data.iloc[:, 0:1].values)"
   ]
  },
  {
   "cell_type": "code",
   "execution_count": 22,
   "id": "85e12c64-3820-43cb-a87a-ff5acf64e0e3",
   "metadata": {},
   "outputs": [
    {
     "data": {
      "text/plain": [
       "array([[1.16716965e-02],\n",
       "       [2.55539219e+00],\n",
       "       [4.95137868e+00],\n",
       "       [4.95137868e+00],\n",
       "       [6.20121747e+00],\n",
       "       [6.97258119e+00],\n",
       "       [7.70744667e+00],\n",
       "       [8.51621141e+00],\n",
       "       [9.28757512e+00],\n",
       "       [1.00237303e+01],\n",
       "       [1.06848255e+01],\n",
       "       [1.13461786e+01],\n",
       "       [1.20451907e+01],\n",
       "       [1.25595192e+01],\n",
       "       [1.35881761e+01],\n",
       "       [1.45079832e+01],\n",
       "       [1.48389177e+01],\n",
       "       [1.56118290e+01],\n",
       "       [1.64225283e+01],\n",
       "       [1.71589414e+01],\n",
       "       [1.78583404e+01],\n",
       "       [1.90373752e+01],\n",
       "       [1.98662591e+01],\n",
       "       [2.10262065e+01],\n",
       "       [2.19473033e+01],\n",
       "       [2.29413965e+01],\n",
       "       [2.38253502e+01],\n",
       "       [2.48938585e+01],\n",
       "       [2.58530011e+01],\n",
       "       [2.69972143e+01],\n",
       "       [2.81041554e+01],\n",
       "       [2.90639428e+01],\n",
       "       [3.01342568e+01],\n",
       "       [3.09465036e+01],\n",
       "       [3.19053883e+01],\n",
       "       [3.27169904e+01],\n",
       "       [3.37499033e+01],\n",
       "       [3.45981325e+01],\n",
       "       [3.55942893e+01],\n",
       "       [3.61111971e+01],\n",
       "       [3.70344863e+01],\n",
       "       [3.79958214e+01],\n",
       "       [3.87715701e+01],\n",
       "       [3.98431737e+01],\n",
       "       [4.05081379e+01],\n",
       "       [4.08780211e+01]])"
      ]
     },
     "execution_count": 22,
     "metadata": {},
     "output_type": "execute_result"
    }
   ],
   "source": [
    "X"
   ]
  },
  {
   "cell_type": "code",
   "execution_count": 25,
   "id": "c6075686",
   "metadata": {},
   "outputs": [],
   "source": [
    "y = np.array(data.iloc[:, 1:2].values)"
   ]
  },
  {
   "cell_type": "code",
   "execution_count": 26,
   "id": "02e96391-563e-4972-b68c-d96a207e6e96",
   "metadata": {},
   "outputs": [
    {
     "data": {
      "text/plain": [
       "array([[27.83223136],\n",
       "       [29.30866872],\n",
       "       [30.99443714],\n",
       "       [30.99443714],\n",
       "       [35.61370625],\n",
       "       [39.11260715],\n",
       "       [42.19181419],\n",
       "       [45.13139077],\n",
       "       [48.63029167],\n",
       "       [50.31090132],\n",
       "       [53.38987908],\n",
       "       [56.18913737],\n",
       "       [58.14935186],\n",
       "       [60.38871263],\n",
       "       [64.86743418],\n",
       "       [67.38777546],\n",
       "       [68.50768512],\n",
       "       [70.32826915],\n",
       "       [71.16994964],\n",
       "       [72.57083982],\n",
       "       [74.11147509],\n",
       "       [75.51374093],\n",
       "       [76.63519823],\n",
       "       [78.73670544],\n",
       "       [79.85844933],\n",
       "       [81.81958094],\n",
       "       [83.22092967],\n",
       "       [84.48299185],\n",
       "       [84.34611273],\n",
       "       [83.51050811],\n",
       "       [83.09436807],\n",
       "       [82.25819025],\n",
       "       [81.56221609],\n",
       "       [80.72557972],\n",
       "       [80.86842007],\n",
       "       [80.73108239],\n",
       "       [80.59443255],\n",
       "       [80.73692899],\n",
       "       [80.46030477],\n",
       "       [79.90247076],\n",
       "       [78.64659909],\n",
       "       [76.1321044 ],\n",
       "       [74.87577417],\n",
       "       [72.78120262],\n",
       "       [71.66438821],\n",
       "       [70.54665669]])"
      ]
     },
     "execution_count": 26,
     "metadata": {},
     "output_type": "execute_result"
    }
   ],
   "source": [
    "y"
   ]
  },
  {
   "cell_type": "code",
   "execution_count": 27,
   "id": "b1508af3",
   "metadata": {},
   "outputs": [],
   "source": [
    "from sklearn.model_selection import train_test_split\n",
    "X_train, X_test, y_train, y_test = train_test_split(X, y, test_size = 0.08, random_state = 0)"
   ]
  },
  {
   "cell_type": "code",
   "execution_count": 28,
   "id": "f1bd8299",
   "metadata": {},
   "outputs": [],
   "source": [
    "from sklearn.preprocessing import StandardScaler\n",
    "sc = StandardScaler()\n",
    "X_train = sc.fit_transform(X_train)\n",
    "X_test = sc.transform(X_test)"
   ]
  },
  {
   "cell_type": "code",
   "execution_count": 29,
   "id": "276f9f95",
   "metadata": {},
   "outputs": [],
   "source": [
    "from keras.models import Sequential\n",
    "from keras.layers import Dense"
   ]
  },
  {
   "cell_type": "code",
   "execution_count": 32,
   "id": "58a5529b",
   "metadata": {},
   "outputs": [
    {
     "name": "stdout",
     "output_type": "stream",
     "text": [
      "Epoch 1/150\n",
      "3/3 [==============================] - 0s 2ms/step - loss: 4755.7158\n",
      "Epoch 2/150\n",
      "3/3 [==============================] - 0s 2ms/step - loss: 4748.0269\n",
      "Epoch 3/150\n",
      "3/3 [==============================] - 0s 1ms/step - loss: 4740.9761\n",
      "Epoch 4/150\n",
      "3/3 [==============================] - 0s 1ms/step - loss: 4735.2515\n",
      "Epoch 5/150\n",
      "3/3 [==============================] - 0s 1ms/step - loss: 4729.6367\n",
      "Epoch 6/150\n",
      "3/3 [==============================] - 0s 2ms/step - loss: 4725.2305\n",
      "Epoch 7/150\n",
      "3/3 [==============================] - 0s 2ms/step - loss: 4720.2788\n",
      "Epoch 8/150\n",
      "3/3 [==============================] - 0s 2ms/step - loss: 4715.1260\n",
      "Epoch 9/150\n",
      "3/3 [==============================] - 0s 2ms/step - loss: 4709.4170\n",
      "Epoch 10/150\n",
      "3/3 [==============================] - 0s 2ms/step - loss: 4703.3867\n",
      "Epoch 11/150\n",
      "3/3 [==============================] - 0s 2ms/step - loss: 4695.9277\n",
      "Epoch 12/150\n",
      "3/3 [==============================] - 0s 2ms/step - loss: 4687.3169\n",
      "Epoch 13/150\n",
      "3/3 [==============================] - 0s 1ms/step - loss: 4677.4790\n",
      "Epoch 14/150\n",
      "3/3 [==============================] - 0s 1ms/step - loss: 4666.5977\n",
      "Epoch 15/150\n",
      "3/3 [==============================] - 0s 1ms/step - loss: 4654.9761\n",
      "Epoch 16/150\n",
      "3/3 [==============================] - 0s 2ms/step - loss: 4640.6460\n",
      "Epoch 17/150\n",
      "3/3 [==============================] - 0s 2ms/step - loss: 4625.1274\n",
      "Epoch 18/150\n",
      "3/3 [==============================] - 0s 1ms/step - loss: 4606.9648\n",
      "Epoch 19/150\n",
      "3/3 [==============================] - 0s 2ms/step - loss: 4586.1787\n",
      "Epoch 20/150\n",
      "3/3 [==============================] - 0s 1ms/step - loss: 4562.3784\n",
      "Epoch 21/150\n",
      "3/3 [==============================] - 0s 2ms/step - loss: 4535.9321\n",
      "Epoch 22/150\n",
      "3/3 [==============================] - 0s 2ms/step - loss: 4503.7515\n",
      "Epoch 23/150\n",
      "3/3 [==============================] - 0s 1ms/step - loss: 4469.1958\n",
      "Epoch 24/150\n",
      "3/3 [==============================] - 0s 2ms/step - loss: 4430.2993\n",
      "Epoch 25/150\n",
      "3/3 [==============================] - 0s 1ms/step - loss: 4384.6484\n",
      "Epoch 26/150\n",
      "3/3 [==============================] - 0s 2ms/step - loss: 4334.1494\n",
      "Epoch 27/150\n",
      "3/3 [==============================] - 0s 2ms/step - loss: 4276.6323\n",
      "Epoch 28/150\n",
      "3/3 [==============================] - 0s 2ms/step - loss: 4216.5000\n",
      "Epoch 29/150\n",
      "3/3 [==============================] - 0s 2ms/step - loss: 4146.6587\n",
      "Epoch 30/150\n",
      "3/3 [==============================] - 0s 1ms/step - loss: 4067.6191\n",
      "Epoch 31/150\n",
      "3/3 [==============================] - 0s 2ms/step - loss: 3982.2991\n",
      "Epoch 32/150\n",
      "3/3 [==============================] - 0s 1ms/step - loss: 3890.8906\n",
      "Epoch 33/150\n",
      "3/3 [==============================] - 0s 2ms/step - loss: 3788.1230\n",
      "Epoch 34/150\n",
      "3/3 [==============================] - 0s 2ms/step - loss: 3682.0137\n",
      "Epoch 35/150\n",
      "3/3 [==============================] - 0s 1ms/step - loss: 3564.3027\n",
      "Epoch 36/150\n",
      "3/3 [==============================] - 0s 1ms/step - loss: 3433.3721\n",
      "Epoch 37/150\n",
      "3/3 [==============================] - 0s 1ms/step - loss: 3296.4651\n",
      "Epoch 38/150\n",
      "3/3 [==============================] - 0s 2ms/step - loss: 3152.6755\n",
      "Epoch 39/150\n",
      "3/3 [==============================] - 0s 1ms/step - loss: 2997.7048\n",
      "Epoch 40/150\n",
      "3/3 [==============================] - 0s 1ms/step - loss: 2830.3723\n",
      "Epoch 41/150\n",
      "3/3 [==============================] - 0s 1ms/step - loss: 2666.6365\n",
      "Epoch 42/150\n",
      "3/3 [==============================] - 0s 1ms/step - loss: 2491.7163\n",
      "Epoch 43/150\n",
      "3/3 [==============================] - 0s 2ms/step - loss: 2315.1611\n",
      "Epoch 44/150\n",
      "3/3 [==============================] - 0s 2ms/step - loss: 2135.5505\n",
      "Epoch 45/150\n",
      "3/3 [==============================] - 0s 2ms/step - loss: 1952.6826\n",
      "Epoch 46/150\n",
      "3/3 [==============================] - 0s 2ms/step - loss: 1779.3534\n",
      "Epoch 47/150\n",
      "3/3 [==============================] - 0s 2ms/step - loss: 1593.5248\n",
      "Epoch 48/150\n",
      "3/3 [==============================] - 0s 2ms/step - loss: 1432.0404\n",
      "Epoch 49/150\n",
      "3/3 [==============================] - 0s 2ms/step - loss: 1274.0834\n",
      "Epoch 50/150\n",
      "3/3 [==============================] - 0s 2ms/step - loss: 1131.4209\n",
      "Epoch 51/150\n",
      "3/3 [==============================] - 0s 2ms/step - loss: 1005.9301\n",
      "Epoch 52/150\n",
      "3/3 [==============================] - 0s 2ms/step - loss: 895.0726\n",
      "Epoch 53/150\n",
      "3/3 [==============================] - 0s 2ms/step - loss: 797.4171\n",
      "Epoch 54/150\n",
      "3/3 [==============================] - 0s 1ms/step - loss: 718.2936\n",
      "Epoch 55/150\n",
      "3/3 [==============================] - 0s 2ms/step - loss: 663.9816\n",
      "Epoch 56/150\n",
      "3/3 [==============================] - 0s 2ms/step - loss: 625.1537\n",
      "Epoch 57/150\n",
      "3/3 [==============================] - 0s 2ms/step - loss: 593.8333\n",
      "Epoch 58/150\n",
      "3/3 [==============================] - 0s 2ms/step - loss: 575.2367\n",
      "Epoch 59/150\n",
      "3/3 [==============================] - 0s 1ms/step - loss: 557.1234\n",
      "Epoch 60/150\n",
      "3/3 [==============================] - 0s 2ms/step - loss: 553.5168\n",
      "Epoch 61/150\n",
      "3/3 [==============================] - 0s 2ms/step - loss: 540.0632\n",
      "Epoch 62/150\n",
      "3/3 [==============================] - 0s 2ms/step - loss: 533.3617\n",
      "Epoch 63/150\n",
      "3/3 [==============================] - 0s 1ms/step - loss: 522.5867\n",
      "Epoch 64/150\n",
      "3/3 [==============================] - 0s 2ms/step - loss: 513.1887\n",
      "Epoch 65/150\n",
      "3/3 [==============================] - 0s 1ms/step - loss: 502.8545\n",
      "Epoch 66/150\n",
      "3/3 [==============================] - 0s 1ms/step - loss: 492.8857\n",
      "Epoch 67/150\n",
      "3/3 [==============================] - 0s 2ms/step - loss: 482.5044\n",
      "Epoch 68/150\n",
      "3/3 [==============================] - 0s 1ms/step - loss: 472.2843\n",
      "Epoch 69/150\n",
      "3/3 [==============================] - 0s 3ms/step - loss: 462.6764\n",
      "Epoch 70/150\n",
      "3/3 [==============================] - 0s 2ms/step - loss: 452.2684\n",
      "Epoch 71/150\n",
      "3/3 [==============================] - 0s 1ms/step - loss: 443.6076\n",
      "Epoch 72/150\n",
      "3/3 [==============================] - 0s 1ms/step - loss: 434.2326\n",
      "Epoch 73/150\n",
      "3/3 [==============================] - 0s 2ms/step - loss: 425.2186\n",
      "Epoch 74/150\n",
      "3/3 [==============================] - 0s 2ms/step - loss: 417.2441\n",
      "Epoch 75/150\n",
      "3/3 [==============================] - 0s 2ms/step - loss: 408.7928\n",
      "Epoch 76/150\n",
      "3/3 [==============================] - 0s 2ms/step - loss: 400.9244\n",
      "Epoch 77/150\n",
      "3/3 [==============================] - 0s 1ms/step - loss: 392.9186\n",
      "Epoch 78/150\n",
      "3/3 [==============================] - 0s 4ms/step - loss: 384.1439\n",
      "Epoch 79/150\n",
      "3/3 [==============================] - 0s 2ms/step - loss: 376.4389\n",
      "Epoch 80/150\n",
      "3/3 [==============================] - 0s 2ms/step - loss: 368.3117\n",
      "Epoch 81/150\n",
      "3/3 [==============================] - 0s 1ms/step - loss: 361.7666\n",
      "Epoch 82/150\n",
      "3/3 [==============================] - 0s 3ms/step - loss: 352.7007\n",
      "Epoch 83/150\n",
      "3/3 [==============================] - 0s 2ms/step - loss: 345.3366\n",
      "Epoch 84/150\n",
      "3/3 [==============================] - 0s 2ms/step - loss: 337.9421\n",
      "Epoch 85/150\n",
      "3/3 [==============================] - 0s 2ms/step - loss: 331.6864\n",
      "Epoch 86/150\n",
      "3/3 [==============================] - 0s 2ms/step - loss: 324.0670\n",
      "Epoch 87/150\n",
      "3/3 [==============================] - 0s 2ms/step - loss: 317.1868\n",
      "Epoch 88/150\n",
      "3/3 [==============================] - 0s 2ms/step - loss: 310.4619\n",
      "Epoch 89/150\n",
      "3/3 [==============================] - 0s 2ms/step - loss: 304.8150\n",
      "Epoch 90/150\n",
      "3/3 [==============================] - 0s 2ms/step - loss: 297.6374\n",
      "Epoch 91/150\n",
      "3/3 [==============================] - 0s 2ms/step - loss: 291.6223\n",
      "Epoch 92/150\n",
      "3/3 [==============================] - 0s 1ms/step - loss: 285.8214\n",
      "Epoch 93/150\n",
      "3/3 [==============================] - 0s 2ms/step - loss: 279.9639\n",
      "Epoch 94/150\n",
      "3/3 [==============================] - 0s 2ms/step - loss: 274.5893\n",
      "Epoch 95/150\n",
      "3/3 [==============================] - 0s 2ms/step - loss: 268.6906\n",
      "Epoch 96/150\n",
      "3/3 [==============================] - 0s 2ms/step - loss: 263.2252\n",
      "Epoch 97/150\n",
      "3/3 [==============================] - 0s 1ms/step - loss: 258.1666\n",
      "Epoch 98/150\n",
      "3/3 [==============================] - 0s 1ms/step - loss: 252.9099\n",
      "Epoch 99/150\n",
      "3/3 [==============================] - 0s 2ms/step - loss: 248.0449\n",
      "Epoch 100/150\n",
      "3/3 [==============================] - 0s 2ms/step - loss: 243.2448\n",
      "Epoch 101/150\n",
      "3/3 [==============================] - 0s 2ms/step - loss: 238.5611\n",
      "Epoch 102/150\n",
      "3/3 [==============================] - 0s 1ms/step - loss: 234.0228\n",
      "Epoch 103/150\n",
      "3/3 [==============================] - 0s 2ms/step - loss: 229.8924\n",
      "Epoch 104/150\n",
      "3/3 [==============================] - 0s 1ms/step - loss: 225.2893\n",
      "Epoch 105/150\n",
      "3/3 [==============================] - 0s 2ms/step - loss: 221.1951\n",
      "Epoch 106/150\n",
      "3/3 [==============================] - 0s 2ms/step - loss: 216.8775\n",
      "Epoch 107/150\n",
      "3/3 [==============================] - 0s 2ms/step - loss: 213.3599\n",
      "Epoch 108/150\n",
      "3/3 [==============================] - 0s 1ms/step - loss: 209.4827\n",
      "Epoch 109/150\n",
      "3/3 [==============================] - 0s 2ms/step - loss: 205.4956\n",
      "Epoch 110/150\n",
      "3/3 [==============================] - 0s 1ms/step - loss: 202.0932\n",
      "Epoch 111/150\n",
      "3/3 [==============================] - 0s 2ms/step - loss: 198.9278\n",
      "Epoch 112/150\n",
      "3/3 [==============================] - 0s 1ms/step - loss: 195.6153\n",
      "Epoch 113/150\n",
      "3/3 [==============================] - 0s 2ms/step - loss: 192.0809\n",
      "Epoch 114/150\n",
      "3/3 [==============================] - 0s 2ms/step - loss: 189.1413\n",
      "Epoch 115/150\n",
      "3/3 [==============================] - 0s 1ms/step - loss: 186.1855\n",
      "Epoch 116/150\n",
      "3/3 [==============================] - 0s 2ms/step - loss: 182.9866\n",
      "Epoch 117/150\n",
      "3/3 [==============================] - 0s 2ms/step - loss: 180.0283\n",
      "Epoch 118/150\n",
      "3/3 [==============================] - 0s 2ms/step - loss: 177.4960\n",
      "Epoch 119/150\n",
      "3/3 [==============================] - 0s 2ms/step - loss: 174.6960\n",
      "Epoch 120/150\n",
      "3/3 [==============================] - 0s 2ms/step - loss: 172.0008\n",
      "Epoch 121/150\n",
      "3/3 [==============================] - 0s 2ms/step - loss: 169.7233\n",
      "Epoch 122/150\n",
      "3/3 [==============================] - 0s 2ms/step - loss: 167.4191\n",
      "Epoch 123/150\n",
      "3/3 [==============================] - 0s 2ms/step - loss: 165.0860\n",
      "Epoch 124/150\n",
      "3/3 [==============================] - 0s 2ms/step - loss: 163.1084\n",
      "Epoch 125/150\n",
      "3/3 [==============================] - 0s 1ms/step - loss: 160.6290\n",
      "Epoch 126/150\n",
      "3/3 [==============================] - 0s 1ms/step - loss: 158.8837\n",
      "Epoch 127/150\n",
      "3/3 [==============================] - 0s 1ms/step - loss: 156.8301\n",
      "Epoch 128/150\n",
      "3/3 [==============================] - 0s 3ms/step - loss: 154.8697\n",
      "Epoch 129/150\n",
      "3/3 [==============================] - 0s 2ms/step - loss: 152.9158\n",
      "Epoch 130/150\n",
      "3/3 [==============================] - 0s 2ms/step - loss: 151.4253\n",
      "Epoch 131/150\n",
      "3/3 [==============================] - 0s 2ms/step - loss: 149.6176\n",
      "Epoch 132/150\n",
      "3/3 [==============================] - 0s 2ms/step - loss: 148.0800\n",
      "Epoch 133/150\n",
      "3/3 [==============================] - 0s 2ms/step - loss: 146.4540\n",
      "Epoch 134/150\n",
      "3/3 [==============================] - 0s 2ms/step - loss: 144.8619\n",
      "Epoch 135/150\n",
      "3/3 [==============================] - 0s 2ms/step - loss: 143.6168\n",
      "Epoch 136/150\n",
      "3/3 [==============================] - 0s 1ms/step - loss: 142.5052\n",
      "Epoch 137/150\n",
      "3/3 [==============================] - 0s 2ms/step - loss: 140.6638\n",
      "Epoch 138/150\n",
      "3/3 [==============================] - 0s 1ms/step - loss: 139.5051\n",
      "Epoch 139/150\n",
      "3/3 [==============================] - 0s 2ms/step - loss: 138.3580\n",
      "Epoch 140/150\n",
      "3/3 [==============================] - 0s 2ms/step - loss: 137.1558\n",
      "Epoch 141/150\n",
      "3/3 [==============================] - 0s 1ms/step - loss: 136.2051\n",
      "Epoch 142/150\n",
      "3/3 [==============================] - 0s 2ms/step - loss: 135.1289\n",
      "Epoch 143/150\n",
      "3/3 [==============================] - 0s 2ms/step - loss: 134.0570\n",
      "Epoch 144/150\n",
      "3/3 [==============================] - 0s 1ms/step - loss: 133.0562\n",
      "Epoch 145/150\n",
      "3/3 [==============================] - 0s 2ms/step - loss: 132.2376\n",
      "Epoch 146/150\n",
      "3/3 [==============================] - 0s 1ms/step - loss: 131.1788\n",
      "Epoch 147/150\n",
      "3/3 [==============================] - 0s 3ms/step - loss: 130.3527\n",
      "Epoch 148/150\n",
      "3/3 [==============================] - 0s 1ms/step - loss: 129.2918\n",
      "Epoch 149/150\n",
      "3/3 [==============================] - 0s 2ms/step - loss: 128.3760\n",
      "Epoch 150/150\n",
      "3/3 [==============================] - 0s 1ms/step - loss: 127.6951\n"
     ]
    },
    {
     "data": {
      "text/plain": [
       "<keras.callbacks.History at 0x22ce776ce20>"
      ]
     },
     "execution_count": 32,
     "metadata": {},
     "output_type": "execute_result"
    }
   ],
   "source": [
    "model = Sequential()\n",
    "\n",
    "model.add(Dense(32, activation = 'relu', input_dim = 1))\n",
    "\n",
    "model.add(Dense(units = 32, activation = 'relu'))\n",
    "\n",
    "model.add(Dense(units = 32, activation = 'relu'))\n",
    "\n",
    "model.add(Dense(units = 1))\n",
    "\n",
    "model.compile(optimizer = 'adam',loss = 'mean_squared_error')\n",
    "\n",
    "model.fit(X_train, y_train, batch_size = 15, epochs = 150)"
   ]
  },
  {
   "cell_type": "code",
   "execution_count": 33,
   "id": "fb46c254",
   "metadata": {},
   "outputs": [
    {
     "name": "stdout",
     "output_type": "stream",
     "text": [
      "1/1 [==============================] - 0s 79ms/step\n"
     ]
    }
   ],
   "source": [
    "y_pred = model.predict(X_test)"
   ]
  },
  {
   "cell_type": "code",
   "execution_count": 34,
   "id": "233e42df",
   "metadata": {},
   "outputs": [],
   "source": [
    "import matplotlib.pyplot as plt"
   ]
  },
  {
   "cell_type": "code",
   "execution_count": 35,
   "id": "f65776e4",
   "metadata": {},
   "outputs": [
    {
     "data": {
      "image/png": "[encoded data removed]",
      "text/plain": [
       "<Figure size 432x288 with 1 Axes>"
      ]
     },
     "metadata": {
      "needs_background": "light"
     },
     "output_type": "display_data"
    }
   ],
   "source": [
    "plt.plot(y_test, color = 'red', label = 'Real data')\n",
    "plt.plot(y_pred, color = 'blue', label = 'Predicted data')\n",
    "plt.title('Prediction')\n",
    "plt.legend()\n",
    "plt.show()"
   ]
  },
  {
   "cell_type": "code",
   "execution_count": null,
   "id": "a746d2cb",
   "metadata": {},
   "outputs": [],
   "source": [
    "from sklearn.metrics import r2_score"
   ]
  },
  {
   "cell_type": "code",
   "execution_count": null,
   "id": "53e14348",
   "metadata": {},
   "outputs": [],
   "source": [
    "r2 = r2_score(y_pred, y_test)"
   ]
  },
  {
   "cell_type": "code",
   "execution_count": null,
   "id": "6e9d5541",
   "metadata": {},
   "outputs": [],
   "source": [
    "r2"
   ]
  },
  {
   "cell_type": "code",
   "execution_count": null,
   "id": "ad2f0306",
   "metadata": {},
   "outputs": [],
   "source": [
    "from numpy import asarray"
   ]
  },
  {
   "cell_type": "code",
   "execution_count": null,
   "id": "a4e5f1ce",
   "metadata": {},
   "outputs": [],
   "source": [
    "row = [-1,-1,-1]\n",
    "newX = asarray([row])\n",
    "yhat = model.predict(newX)\n",
    "print('Predicted: %s' % yhat[0])"
   ]
  },
  {
   "cell_type": "code",
   "execution_count": null,
   "id": "47932a4d-b186-4391-baad-571935b89031",
   "metadata": {},
   "outputs": [],
   "source": []
  }
 ],
 "metadata": {
  "kernelspec": {
   "display_name": "Python 3",
   "language": "python",
   "name": "python3"
  },
  "language_info": {
   "codemirror_mode": {
    "name": "ipython",
    "version": 3
   },
   "file_extension": ".py",
   "mimetype": "text/x-python",
   "name": "python",
   "nbconvert_exporter": "python",
   "pygments_lexer": "ipython3",
   "version": "3.8.8"
  }
 },
 "nbformat": 4,
 "nbformat_minor": 5
}
