{
 "cells": [
  {
   "cell_type": "code",
   "execution_count": 1,
   "id": "e5569e0e-8959-4f1b-8d8f-cff6042a4b34",
   "metadata": {},
   "outputs": [],
   "source": [
    "import numpy as np\n",
    "import matplotlib.pyplot as plt\n",
    "import pandas as pd\n",
    "import tensorflow as tf\n",
    "from tensorflow.keras.models import Sequential\n",
    "from tensorflow.keras.layers import Dense\n",
    "from tensorflow.keras.layers import LSTM\n",
    "from sklearn.preprocessing import MinMaxScaler\n",
    "from sklearn.metrics import mean_squared_error\n",
    "from sklearn.model_selection import train_test_split\n",
    "from sklearn.preprocessing import StandardScaler"
   ]
  },
  {
   "cell_type": "code",
   "execution_count": 2,
   "id": "75a063a7-98cd-4272-b252-f9a26349c802",
   "metadata": {},
   "outputs": [
    {
     "data": {
      "text/plain": [
       "'2.9.1'"
      ]
     },
     "execution_count": 2,
     "metadata": {},
     "output_type": "execute_result"
    }
   ],
   "source": [
    "tf.__version__"
   ]
  },
  {
   "cell_type": "code",
   "execution_count": 3,
   "id": "e08eccf8-1e51-4ffc-b824-d4657168b3d2",
   "metadata": {},
   "outputs": [],
   "source": [
    "#The Long Short-Term Memory network, or LSTM network, \n",
    "#is a recurrent neural network trained using Backpropagation Through Time \n",
    "#that overcomes the vanishing gradient problem.\n",
    "tf.random.set_seed(7)"
   ]
  },
  {
   "cell_type": "code",
   "execution_count": 4,
   "id": "c064c82d-6902-4b7a-a110-38e6bf3393ad",
   "metadata": {},
   "outputs": [],
   "source": [
    "data = pd.read_excel('C:/Users/mario/OneDrive/Área de Trabalho/Default Dataset.xlsx')"
   ]
  },
  {
   "cell_type": "code",
   "execution_count": 5,
   "id": "55867b86-942b-4204-8cd7-46b63f32d773",
   "metadata": {},
   "outputs": [
    {
     "data": {
      "text/html": [
       "<div>\n",
       "<style scoped>\n",
       "    .dataframe tbody tr th:only-of-type {\n",
       "        vertical-align: middle;\n",
       "    }\n",
       "\n",
       "    .dataframe tbody tr th {\n",
       "        vertical-align: top;\n",
       "    }\n",
       "\n",
       "    .dataframe thead th {\n",
       "        text-align: right;\n",
       "    }\n",
       "</style>\n",
       "<table border=\"1\" class=\"dataframe\">\n",
       "  <thead>\n",
       "    <tr style=\"text-align: right;\">\n",
       "      <th></th>\n",
       "      <th>time(h)</th>\n",
       "      <th>PHB(%)</th>\n",
       "    </tr>\n",
       "  </thead>\n",
       "  <tbody>\n",
       "    <tr>\n",
       "      <th>0</th>\n",
       "      <td>0.011672</td>\n",
       "      <td>27.832231</td>\n",
       "    </tr>\n",
       "    <tr>\n",
       "      <th>1</th>\n",
       "      <td>2.555392</td>\n",
       "      <td>29.308669</td>\n",
       "    </tr>\n",
       "    <tr>\n",
       "      <th>2</th>\n",
       "      <td>4.951379</td>\n",
       "      <td>30.994437</td>\n",
       "    </tr>\n",
       "    <tr>\n",
       "      <th>3</th>\n",
       "      <td>4.951379</td>\n",
       "      <td>30.994437</td>\n",
       "    </tr>\n",
       "    <tr>\n",
       "      <th>4</th>\n",
       "      <td>6.201217</td>\n",
       "      <td>35.613706</td>\n",
       "    </tr>\n",
       "  </tbody>\n",
       "</table>\n",
       "</div>"
      ],
      "text/plain": [
       "    time(h)     PHB(%)\n",
       "0  0.011672  27.832231\n",
       "1  2.555392  29.308669\n",
       "2  4.951379  30.994437\n",
       "3  4.951379  30.994437\n",
       "4  6.201217  35.613706"
      ]
     },
     "execution_count": 5,
     "metadata": {},
     "output_type": "execute_result"
    }
   ],
   "source": [
    "dataframe = pd.DataFrame(data)\n",
    "dataframe.head()"
   ]
  },
  {
   "cell_type": "code",
   "execution_count": 6,
   "id": "2b973619-043c-4181-a956-b73f6df1a234",
   "metadata": {},
   "outputs": [],
   "source": [
    "dataset = dataframe.values\n",
    "dataset = dataset.astype(\"float32\")"
   ]
  },
  {
   "cell_type": "code",
   "execution_count": 7,
   "id": "76cef528-ef3a-4307-b293-1c9c119cb9ed",
   "metadata": {},
   "outputs": [
    {
     "data": {
      "text/plain": [
       "array([[1.1671697e-02, 2.7832232e+01],\n",
       "       [2.5553923e+00, 2.9308668e+01],\n",
       "       [4.9513788e+00, 3.0994436e+01],\n",
       "       [4.9513788e+00, 3.0994436e+01],\n",
       "       [6.2012177e+00, 3.5613705e+01],\n",
       "       [6.9725814e+00, 3.9112606e+01],\n",
       "       [7.7074466e+00, 4.2191814e+01],\n",
       "       [8.5162115e+00, 4.5131390e+01],\n",
       "       [9.2875748e+00, 4.8630291e+01],\n",
       "       [1.0023730e+01, 5.0310902e+01],\n",
       "       [1.0684826e+01, 5.3389877e+01],\n",
       "       [1.1346179e+01, 5.6189137e+01],\n",
       "       [1.2045191e+01, 5.8149353e+01],\n",
       "       [1.2559519e+01, 6.0388714e+01],\n",
       "       [1.3588176e+01, 6.4867432e+01],\n",
       "       [1.4507983e+01, 6.7387779e+01],\n",
       "       [1.4838918e+01, 6.8507683e+01],\n",
       "       [1.5611829e+01, 7.0328270e+01],\n",
       "       [1.6422529e+01, 7.1169952e+01],\n",
       "       [1.7158941e+01, 7.2570839e+01],\n",
       "       [1.7858341e+01, 7.4111473e+01],\n",
       "       [1.9037374e+01, 7.5513741e+01],\n",
       "       [1.9866259e+01, 7.6635201e+01],\n",
       "       [2.1026207e+01, 7.8736702e+01],\n",
       "       [2.1947304e+01, 7.9858452e+01],\n",
       "       [2.2941397e+01, 8.1819580e+01],\n",
       "       [2.3825350e+01, 8.3220932e+01],\n",
       "       [2.4893858e+01, 8.4482994e+01],\n",
       "       [2.5853001e+01, 8.4346115e+01],\n",
       "       [2.6997213e+01, 8.3510506e+01],\n",
       "       [2.8104155e+01, 8.3094368e+01],\n",
       "       [2.9063942e+01, 8.2258194e+01],\n",
       "       [3.0134256e+01, 8.1562218e+01],\n",
       "       [3.0946505e+01, 8.0725578e+01],\n",
       "       [3.1905388e+01, 8.0868423e+01],\n",
       "       [3.2716991e+01, 8.0731079e+01],\n",
       "       [3.3749905e+01, 8.0594429e+01],\n",
       "       [3.4598133e+01, 8.0736931e+01],\n",
       "       [3.5594288e+01, 8.0460304e+01],\n",
       "       [3.6111198e+01, 7.9902473e+01],\n",
       "       [3.7034485e+01, 7.8646599e+01],\n",
       "       [3.7995823e+01, 7.6132103e+01],\n",
       "       [3.8771568e+01, 7.4875771e+01],\n",
       "       [3.9843174e+01, 7.2781204e+01],\n",
       "       [4.0508137e+01, 7.1664391e+01],\n",
       "       [4.0878021e+01, 7.0546654e+01]], dtype=float32)"
      ]
     },
     "execution_count": 7,
     "metadata": {},
     "output_type": "execute_result"
    }
   ],
   "source": [
    "dataset"
   ]
  },
  {
   "cell_type": "code",
   "execution_count": 8,
   "id": "1edd2f9c-70f8-4539-8449-bf8d9ca4d696",
   "metadata": {},
   "outputs": [],
   "source": [
    "#nomarlizacao do dataset\n",
    "scaler = MinMaxScaler(feature_range=(0,1))\n",
    "dataset = scaler.fit_transform(dataset)"
   ]
  },
  {
   "cell_type": "code",
   "execution_count": 9,
   "id": "8b589bce-77ed-4c6c-bd21-cdfeb8f361d1",
   "metadata": {},
   "outputs": [
    {
     "data": {
      "text/plain": [
       "array([[0.        , 0.        ],\n",
       "       [0.06224487, 0.0260621 ],\n",
       "       [0.12087469, 0.0558193 ],\n",
       "       [0.12087469, 0.0558193 ],\n",
       "       [0.15145825, 0.1373587 ]], dtype=float32)"
      ]
     },
     "execution_count": 9,
     "metadata": {},
     "output_type": "execute_result"
    }
   ],
   "source": [
    "dataset[:5]"
   ]
  },
  {
   "cell_type": "code",
   "execution_count": 10,
   "id": "c64a0511-6e39-4275-9dff-2a91e388ee0e",
   "metadata": {},
   "outputs": [],
   "source": [
    "# split into train and test sets \n",
    "train_split = int(len(dataset)*0.67)\n",
    "test_split = len(dataset) -train_split\n",
    "train, test = dataset[0:train_split,:], dataset[train_split:len(dataset),:]"
   ]
  },
  {
   "cell_type": "code",
   "execution_count": 11,
   "id": "05531831-2db0-44f8-b6e2-ef088ecc4a2a",
   "metadata": {},
   "outputs": [
    {
     "data": {
      "text/plain": [
       "30"
      ]
     },
     "execution_count": 11,
     "metadata": {},
     "output_type": "execute_result"
    }
   ],
   "source": [
    "train_split"
   ]
  },
  {
   "cell_type": "code",
   "execution_count": 12,
   "id": "18f7de9d-f0a1-4e5c-9173-b491d1347137",
   "metadata": {},
   "outputs": [
    {
     "data": {
      "text/plain": [
       "16"
      ]
     },
     "execution_count": 12,
     "metadata": {},
     "output_type": "execute_result"
    }
   ],
   "source": [
    "test_split"
   ]
  },
  {
   "cell_type": "code",
   "execution_count": 13,
   "id": "d12d6799-e67f-47bd-9b5d-281bc4c37562",
   "metadata": {},
   "outputs": [
    {
     "data": {
      "text/plain": [
       "46"
      ]
     },
     "execution_count": 13,
     "metadata": {},
     "output_type": "execute_result"
    }
   ],
   "source": [
    "len(dataset)"
   ]
  },
  {
   "cell_type": "code",
   "execution_count": 14,
   "id": "b8eee815-9eec-4090-a060-b55d6a9ff6f1",
   "metadata": {},
   "outputs": [
    {
     "name": "stdout",
     "output_type": "stream",
     "text": [
      "30 16\n"
     ]
    }
   ],
   "source": [
    "print(len(train),len(test))"
   ]
  },
  {
   "cell_type": "code",
   "execution_count": 15,
   "id": "c58d4172-b42d-4a76-9f64-85e92abeeb27",
   "metadata": {},
   "outputs": [],
   "source": [
    "#after define what is training and testing \n",
    "#it is time to define the input and output (X,Y)\n",
    "def defineXY(dataset, look_back=1):\n",
    "    dataX, dataY = [], []\n",
    "    for i in range(len(dataset)-look_back-1):\n",
    "        a = dataset[i:(i+look_back), 0]\n",
    "        dataX.append(a)\n",
    "        dataY.append(dataset[i + look_back, 0])\n",
    "    return np.array(dataX), np.array(dataY)"
   ]
  },
  {
   "cell_type": "code",
   "execution_count": 16,
   "id": "148f16d9-c8a6-4c4c-865b-1dcca28579f6",
   "metadata": {},
   "outputs": [],
   "source": [
    "look_back = 1\n",
    "trainX, trainY = defineXY(train, look_back)\n",
    "testX, testY = defineXY(test, look_back)"
   ]
  },
  {
   "cell_type": "code",
   "execution_count": 17,
   "id": "e50cfcd9-04b5-494c-bf91-4b0f0083869b",
   "metadata": {},
   "outputs": [
    {
     "data": {
      "text/plain": [
       "[<matplotlib.lines.Line2D at 0x1d7e474fac0>]"
      ]
     },
     "execution_count": 17,
     "metadata": {},
     "output_type": "execute_result"
    },
    {
     "data": {
      "image/png": "[encoded data removed]",
      "text/plain": [
       "<Figure size 432x288 with 1 Axes>"
      ]
     },
     "metadata": {
      "needs_background": "light"
     },
     "output_type": "display_data"
    }
   ],
   "source": [
    "plt.ylabel(\"PHB (%)\")\n",
    "plt.xlabel(\"Tempo (h)\")\n",
    "plt.plot(trainX)"
   ]
  },
  {
   "cell_type": "code",
   "execution_count": 18,
   "id": "387ed2ee-44d2-4b68-9d98-069804a1f4c5",
   "metadata": {},
   "outputs": [],
   "source": [
    "X = np.array(data.iloc[:, 0:1].values)\n",
    "Y = np.array(data.iloc[:, 1:].values)"
   ]
  },
  {
   "cell_type": "code",
   "execution_count": 19,
   "id": "9415f693-3c86-4ca9-8ecb-7d8d94147974",
   "metadata": {},
   "outputs": [],
   "source": [
    "X_train, X_test, y_train, y_test = train_test_split(X,Y, test_size=0.2,random_state=0)"
   ]
  },
  {
   "cell_type": "code",
   "execution_count": 20,
   "id": "f0ce647b-8bd6-4c18-9aec-f3bae3ce4ca5",
   "metadata": {},
   "outputs": [],
   "source": [
    "sc = StandardScaler()\n",
    "X_train = sc.fit_transform(X_train)\n",
    "X_test = sc.transform(X_test)"
   ]
  },
  {
   "cell_type": "code",
   "execution_count": 21,
   "id": "d3b18466-b8a1-4dbd-a377-9c455971e639",
   "metadata": {},
   "outputs": [
    {
     "data": {
      "text/plain": [
       "array([[ 0.51205179],\n",
       "       [ 1.11092989],\n",
       "       [ 1.36497127],\n",
       "       [-1.33914223],\n",
       "       [ 1.53339381],\n",
       "       [-0.42195964],\n",
       "       [-0.57503824],\n",
       "       [ 0.25537059],\n",
       "       [-0.54857817],\n",
       "       [ 1.30294582],\n",
       "       [ 1.22608171],\n",
       "       [-0.99243906],\n",
       "       [-0.73082883],\n",
       "       [-1.17753578],\n",
       "       [-0.48677959],\n",
       "       [ 0.73931343],\n",
       "       [-0.64858196],\n",
       "       [ 1.03128159],\n",
       "       [-1.05411391],\n",
       "       [ 0.88087375],\n",
       "       [-1.53071475],\n",
       "       [ 0.16993737],\n",
       "       [-0.77195227],\n",
       "       [ 0.81598163],\n",
       "       [ 0.01977702],\n",
       "       [-1.11877917],\n",
       "       [-0.05386982],\n",
       "       [ 0.96346092],\n",
       "       [-0.21288801],\n",
       "       [-0.3630793 ],\n",
       "       [-0.93357934],\n",
       "       [ 1.15225957],\n",
       "       [ 1.45065197],\n",
       "       [-1.33914223],\n",
       "       [-1.73409943],\n",
       "       [ 1.50381959]])"
      ]
     },
     "execution_count": 21,
     "metadata": {},
     "output_type": "execute_result"
    }
   ],
   "source": [
    "X_train"
   ]
  },
  {
   "cell_type": "code",
   "execution_count": null,
   "id": "83cd3524-e962-4f41-baf8-41bbd34d3905",
   "metadata": {},
   "outputs": [],
   "source": []
  },
  {
   "cell_type": "code",
   "execution_count": null,
   "id": "4d193c81-833f-4856-87c8-01bb1841d856",
   "metadata": {},
   "outputs": [],
   "source": [
    "\n"
   ]
  },
  {
   "cell_type": "code",
   "execution_count": null,
   "id": "1c509916-59f1-477a-afe1-ae832333ef44",
   "metadata": {},
   "outputs": [],
   "source": []
  },
  {
   "cell_type": "code",
   "execution_count": 22,
   "id": "736ac729-cd04-4ee2-a8e7-3bd4369857ce",
   "metadata": {},
   "outputs": [
    {
     "name": "stdout",
     "output_type": "stream",
     "text": [
      "Epoch 1/100\n",
      "36/36 - 1s - loss: 4637.3516 - 1s/epoch - 32ms/step\n",
      "Epoch 2/100\n",
      "36/36 - 0s - loss: 4621.5488 - 41ms/epoch - 1ms/step\n",
      "Epoch 3/100\n",
      "36/36 - 0s - loss: 4600.5410 - 39ms/epoch - 1ms/step\n",
      "Epoch 4/100\n",
      "36/36 - 0s - loss: 4571.3135 - 40ms/epoch - 1ms/step\n",
      "Epoch 5/100\n",
      "36/36 - 0s - loss: 4531.4287 - 39ms/epoch - 1ms/step\n",
      "Epoch 6/100\n",
      "36/36 - 0s - loss: 4478.0488 - 38ms/epoch - 1ms/step\n",
      "Epoch 7/100\n",
      "36/36 - 0s - loss: 4410.1309 - 43ms/epoch - 1ms/step\n",
      "Epoch 8/100\n",
      "36/36 - 0s - loss: 4327.2598 - 40ms/epoch - 1ms/step\n",
      "Epoch 9/100\n",
      "36/36 - 0s - loss: 4230.5508 - 40ms/epoch - 1ms/step\n",
      "Epoch 10/100\n",
      "36/36 - 0s - loss: 4121.0371 - 38ms/epoch - 1ms/step\n",
      "Epoch 11/100\n",
      "36/36 - 0s - loss: 3997.7444 - 37ms/epoch - 1ms/step\n",
      "Epoch 12/100\n",
      "36/36 - 0s - loss: 3867.1511 - 35ms/epoch - 970us/step\n",
      "Epoch 13/100\n",
      "36/36 - 0s - loss: 3730.4688 - 33ms/epoch - 914us/step\n",
      "Epoch 14/100\n",
      "36/36 - 0s - loss: 3585.2476 - 41ms/epoch - 1ms/step\n",
      "Epoch 15/100\n",
      "36/36 - 0s - loss: 3440.2310 - 37ms/epoch - 1ms/step\n",
      "Epoch 16/100\n",
      "36/36 - 0s - loss: 3290.6760 - 35ms/epoch - 970us/step\n",
      "Epoch 17/100\n",
      "36/36 - 0s - loss: 3140.9543 - 35ms/epoch - 970us/step\n",
      "Epoch 18/100\n",
      "36/36 - 0s - loss: 2995.2192 - 38ms/epoch - 1ms/step\n",
      "Epoch 19/100\n",
      "36/36 - 0s - loss: 2849.4717 - 36ms/epoch - 997us/step\n",
      "Epoch 20/100\n",
      "36/36 - 0s - loss: 2704.6326 - 38ms/epoch - 1ms/step\n",
      "Epoch 21/100\n",
      "36/36 - 0s - loss: 2566.8291 - 38ms/epoch - 1ms/step\n",
      "Epoch 22/100\n",
      "36/36 - 0s - loss: 2429.5283 - 38ms/epoch - 1ms/step\n",
      "Epoch 23/100\n",
      "36/36 - 0s - loss: 2298.3386 - 37ms/epoch - 1ms/step\n",
      "Epoch 24/100\n",
      "36/36 - 0s - loss: 2172.5188 - 40ms/epoch - 1ms/step\n",
      "Epoch 25/100\n",
      "36/36 - 0s - loss: 2048.3838 - 37ms/epoch - 1ms/step\n",
      "Epoch 26/100\n",
      "36/36 - 0s - loss: 1931.1498 - 38ms/epoch - 1ms/step\n",
      "Epoch 27/100\n",
      "36/36 - 0s - loss: 1819.3413 - 52ms/epoch - 1ms/step\n",
      "Epoch 28/100\n",
      "36/36 - 0s - loss: 1712.1117 - 37ms/epoch - 1ms/step\n",
      "Epoch 29/100\n",
      "36/36 - 0s - loss: 1609.6724 - 37ms/epoch - 1ms/step\n",
      "Epoch 30/100\n",
      "36/36 - 0s - loss: 1512.1245 - 36ms/epoch - 1000us/step\n",
      "Epoch 31/100\n",
      "36/36 - 0s - loss: 1420.1655 - 37ms/epoch - 1ms/step\n",
      "Epoch 32/100\n",
      "36/36 - 0s - loss: 1333.2671 - 36ms/epoch - 997us/step\n",
      "Epoch 33/100\n",
      "36/36 - 0s - loss: 1251.2538 - 35ms/epoch - 969us/step\n",
      "Epoch 34/100\n",
      "36/36 - 0s - loss: 1170.3073 - 36ms/epoch - 997us/step\n",
      "Epoch 35/100\n",
      "36/36 - 0s - loss: 1098.7081 - 59ms/epoch - 2ms/step\n",
      "Epoch 36/100\n",
      "36/36 - 0s - loss: 1028.2148 - 48ms/epoch - 1ms/step\n",
      "Epoch 37/100\n",
      "36/36 - 0s - loss: 963.7776 - 47ms/epoch - 1ms/step\n",
      "Epoch 38/100\n",
      "36/36 - 0s - loss: 901.5351 - 43ms/epoch - 1ms/step\n",
      "Epoch 39/100\n",
      "36/36 - 0s - loss: 844.5624 - 45ms/epoch - 1ms/step\n",
      "Epoch 40/100\n",
      "36/36 - 0s - loss: 789.7516 - 48ms/epoch - 1ms/step\n",
      "Epoch 41/100\n",
      "36/36 - 0s - loss: 739.7061 - 50ms/epoch - 1ms/step\n",
      "Epoch 42/100\n",
      "36/36 - 0s - loss: 692.3826 - 50ms/epoch - 1ms/step\n",
      "Epoch 43/100\n",
      "36/36 - 0s - loss: 647.6182 - 50ms/epoch - 1ms/step\n",
      "Epoch 44/100\n",
      "36/36 - 0s - loss: 606.8651 - 50ms/epoch - 1ms/step\n",
      "Epoch 45/100\n",
      "36/36 - 0s - loss: 568.3962 - 47ms/epoch - 1ms/step\n",
      "Epoch 46/100\n",
      "36/36 - 0s - loss: 531.9067 - 47ms/epoch - 1ms/step\n",
      "Epoch 47/100\n",
      "36/36 - 0s - loss: 498.8895 - 48ms/epoch - 1ms/step\n",
      "Epoch 48/100\n",
      "36/36 - 0s - loss: 467.6653 - 51ms/epoch - 1ms/step\n",
      "Epoch 49/100\n",
      "36/36 - 0s - loss: 438.2208 - 45ms/epoch - 1ms/step\n",
      "Epoch 50/100\n",
      "36/36 - 0s - loss: 411.7577 - 78ms/epoch - 2ms/step\n",
      "Epoch 51/100\n",
      "36/36 - 0s - loss: 386.2457 - 106ms/epoch - 3ms/step\n",
      "Epoch 52/100\n",
      "36/36 - 0s - loss: 363.0628 - 103ms/epoch - 3ms/step\n",
      "Epoch 53/100\n",
      "36/36 - 0s - loss: 341.1994 - 222ms/epoch - 6ms/step\n",
      "Epoch 54/100\n",
      "36/36 - 0s - loss: 321.0389 - 259ms/epoch - 7ms/step\n",
      "Epoch 55/100\n",
      "36/36 - 0s - loss: 302.7701 - 230ms/epoch - 6ms/step\n",
      "Epoch 56/100\n",
      "36/36 - 0s - loss: 284.7507 - 237ms/epoch - 7ms/step\n",
      "Epoch 57/100\n",
      "36/36 - 0s - loss: 269.4182 - 271ms/epoch - 8ms/step\n",
      "Epoch 58/100\n",
      "36/36 - 0s - loss: 253.7974 - 186ms/epoch - 5ms/step\n",
      "Epoch 59/100\n",
      "36/36 - 0s - loss: 239.8195 - 52ms/epoch - 1ms/step\n",
      "Epoch 60/100\n",
      "36/36 - 0s - loss: 226.7751 - 60ms/epoch - 2ms/step\n",
      "Epoch 61/100\n",
      "36/36 - 0s - loss: 214.8604 - 40ms/epoch - 1ms/step\n",
      "Epoch 62/100\n",
      "36/36 - 0s - loss: 203.5285 - 45ms/epoch - 1ms/step\n",
      "Epoch 63/100\n",
      "36/36 - 0s - loss: 192.7763 - 145ms/epoch - 4ms/step\n",
      "Epoch 64/100\n",
      "36/36 - 0s - loss: 183.0976 - 276ms/epoch - 8ms/step\n",
      "Epoch 65/100\n",
      "36/36 - 0s - loss: 173.6723 - 228ms/epoch - 6ms/step\n",
      "Epoch 66/100\n",
      "36/36 - 0s - loss: 165.0226 - 36ms/epoch - 997us/step\n",
      "Epoch 67/100\n",
      "36/36 - 0s - loss: 156.8865 - 38ms/epoch - 1ms/step\n",
      "Epoch 68/100\n",
      "36/36 - 0s - loss: 149.3322 - 41ms/epoch - 1ms/step\n",
      "Epoch 69/100\n",
      "36/36 - 0s - loss: 142.4894 - 108ms/epoch - 3ms/step\n",
      "Epoch 70/100\n",
      "36/36 - 0s - loss: 135.4056 - 70ms/epoch - 2ms/step\n",
      "Epoch 71/100\n",
      "36/36 - 0s - loss: 129.0617 - 37ms/epoch - 1ms/step\n",
      "Epoch 72/100\n",
      "36/36 - 0s - loss: 123.2096 - 35ms/epoch - 973us/step\n",
      "Epoch 73/100\n",
      "36/36 - 0s - loss: 117.6558 - 36ms/epoch - 997us/step\n",
      "Epoch 74/100\n",
      "36/36 - 0s - loss: 112.4882 - 37ms/epoch - 1ms/step\n",
      "Epoch 75/100\n",
      "36/36 - 0s - loss: 107.3946 - 41ms/epoch - 1ms/step\n",
      "Epoch 76/100\n",
      "36/36 - 0s - loss: 102.5524 - 36ms/epoch - 997us/step\n",
      "Epoch 77/100\n",
      "36/36 - 0s - loss: 97.9727 - 37ms/epoch - 1ms/step\n",
      "Epoch 78/100\n",
      "36/36 - 0s - loss: 93.7573 - 39ms/epoch - 1ms/step\n",
      "Epoch 79/100\n",
      "36/36 - 0s - loss: 89.9780 - 36ms/epoch - 1ms/step\n",
      "Epoch 80/100\n",
      "36/36 - 0s - loss: 85.9807 - 36ms/epoch - 996us/step\n",
      "Epoch 81/100\n",
      "36/36 - 0s - loss: 82.3096 - 41ms/epoch - 1ms/step\n",
      "Epoch 82/100\n",
      "36/36 - 0s - loss: 78.9903 - 36ms/epoch - 997us/step\n",
      "Epoch 83/100\n",
      "36/36 - 0s - loss: 75.8317 - 37ms/epoch - 1ms/step\n",
      "Epoch 84/100\n",
      "36/36 - 0s - loss: 72.6634 - 37ms/epoch - 1ms/step\n",
      "Epoch 85/100\n",
      "36/36 - 0s - loss: 70.0693 - 37ms/epoch - 1ms/step\n",
      "Epoch 86/100\n",
      "36/36 - 0s - loss: 67.2311 - 38ms/epoch - 1ms/step\n",
      "Epoch 87/100\n",
      "36/36 - 0s - loss: 64.4974 - 40ms/epoch - 1ms/step\n",
      "Epoch 88/100\n",
      "36/36 - 0s - loss: 62.1159 - 38ms/epoch - 1ms/step\n",
      "Epoch 89/100\n",
      "36/36 - 0s - loss: 59.9979 - 38ms/epoch - 1ms/step\n",
      "Epoch 90/100\n",
      "36/36 - 0s - loss: 57.6593 - 39ms/epoch - 1ms/step\n",
      "Epoch 91/100\n",
      "36/36 - 0s - loss: 55.9170 - 39ms/epoch - 1ms/step\n",
      "Epoch 92/100\n",
      "36/36 - 0s - loss: 53.7522 - 43ms/epoch - 1ms/step\n",
      "Epoch 93/100\n",
      "36/36 - 0s - loss: 52.1951 - 55ms/epoch - 2ms/step\n",
      "Epoch 94/100\n",
      "36/36 - 0s - loss: 50.4604 - 39ms/epoch - 1ms/step\n",
      "Epoch 95/100\n",
      "36/36 - 0s - loss: 48.8649 - 38ms/epoch - 1ms/step\n",
      "Epoch 96/100\n",
      "36/36 - 0s - loss: 47.6837 - 37ms/epoch - 1ms/step\n",
      "Epoch 97/100\n",
      "36/36 - 0s - loss: 46.2071 - 39ms/epoch - 1ms/step\n",
      "Epoch 98/100\n",
      "36/36 - 0s - loss: 45.0096 - 39ms/epoch - 1ms/step\n",
      "Epoch 99/100\n",
      "36/36 - 0s - loss: 43.8471 - 36ms/epoch - 1ms/step\n",
      "Epoch 100/100\n",
      "36/36 - 0s - loss: 42.7974 - 36ms/epoch - 997us/step\n"
     ]
    },
    {
     "data": {
      "text/plain": [
       "<keras.callbacks.History at 0x1d7ec2233a0>"
      ]
     },
     "execution_count": 22,
     "metadata": {},
     "output_type": "execute_result"
    }
   ],
   "source": [
    "#Currently, the data is in the form of [samples, features],\n",
    "#The network has a visible layer with 1 input, a hidden layer with 4 LSTM blocks \n",
    "#or neurons, and an output layer that makes a single value prediction.\n",
    "model = Sequential()\n",
    "model.add(LSTM(40, input_shape=(1, look_back)))\n",
    "model.add(Dense(1))\n",
    "model.compile(loss='mean_squared_error', optimizer='adam')\n",
    "model.fit(X_train, y_train, epochs=100, batch_size=1, verbose=2)"
   ]
  },
  {
   "cell_type": "code",
   "execution_count": 23,
   "id": "321d1e6f-277b-4546-8710-3b4afabc9afb",
   "metadata": {},
   "outputs": [
    {
     "name": "stdout",
     "output_type": "stream",
     "text": [
      "1/1 [==============================] - 0s 362ms/step\n",
      "1/1 [==============================] - 0s 17ms/step\n"
     ]
    }
   ],
   "source": [
    "#Once the model is fit, you can estimate the performance of the model on the train\n",
    "\n",
    "# make predictions\n",
    "trainPredict = model.predict(trainX)\n",
    "testPredict = model.predict(testX)"
   ]
  },
  {
   "cell_type": "code",
   "execution_count": null,
   "id": "dbd7cd87-1b08-41bb-a693-fd2033b50984",
   "metadata": {},
   "outputs": [],
   "source": []
  },
  {
   "cell_type": "code",
   "execution_count": 24,
   "id": "0756c124-2a33-468a-a504-bff73469f0f7",
   "metadata": {
    "scrolled": true
   },
   "outputs": [
    {
     "name": "stdout",
     "output_type": "stream",
     "text": [
      "1/1 [==============================] - 0s 17ms/step\n"
     ]
    },
    {
     "data": {
      "image/png": "[encoded data removed]",
      "text/plain": [
       "<Figure size 432x288 with 1 Axes>"
      ]
     },
     "metadata": {
      "needs_background": "light"
     },
     "output_type": "display_data"
    }
   ],
   "source": [
    "y_pred = model.predict(X_test)\n",
    "\n",
    "plt.plot(y_test, color = 'red', label = 'Dados Reais')\n",
    "plt.plot(y_pred, color = 'blue', label = 'Dados da Rede')\n",
    "plt.title('Rede Neural Arificial (LSTM)')\n",
    "plt.xlabel(\"Dado de entrada (h)\")\n",
    "plt.ylabel(\"Dado de Saída (%)\")\n",
    "plt.legend()\n",
    "plt.show()"
   ]
  },
  {
   "cell_type": "code",
   "execution_count": 25,
   "id": "226298f6-c639-4523-a2b1-6774f3396696",
   "metadata": {},
   "outputs": [
    {
     "data": {
      "text/plain": [
       "array([[71.049614],\n",
       "       [67.821014],\n",
       "       [73.50366 ],\n",
       "       [43.02315 ],\n",
       "       [53.15244 ],\n",
       "       [75.65325 ],\n",
       "       [74.33052 ],\n",
       "       [54.490177],\n",
       "       [65.301025],\n",
       "       [76.26024 ]], dtype=float32)"
      ]
     },
     "execution_count": 25,
     "metadata": {},
     "output_type": "execute_result"
    }
   ],
   "source": [
    "y_pred"
   ]
  },
  {
   "cell_type": "code",
   "execution_count": 28,
   "id": "db8c3de2-19c9-475a-ad6d-e20a746233b0",
   "metadata": {},
   "outputs": [
    {
     "data": {
      "text/plain": [
       "array([[81.81958094],\n",
       "       [76.63519823],\n",
       "       [84.34611273],\n",
       "       [35.61370625],\n",
       "       [53.38987908],\n",
       "       [82.25819025],\n",
       "       [83.51050811],\n",
       "       [56.18913737],\n",
       "       [74.11147509],\n",
       "       [81.56221609]])"
      ]
     },
     "execution_count": 28,
     "metadata": {},
     "output_type": "execute_result"
    }
   ],
   "source": [
    "y_test"
   ]
  },
  {
   "cell_type": "code",
   "execution_count": 68,
   "id": "e7c8b300-60f7-44d9-8492-8d272c99fa1c",
   "metadata": {},
   "outputs": [
    {
     "name": "stdout",
     "output_type": "stream",
     "text": [
      "2/2 [==============================] - 0s 3ms/step - loss: 41.6952\n"
     ]
    },
    {
     "data": {
      "text/plain": [
       "41.69517135620117"
      ]
     },
     "execution_count": 68,
     "metadata": {},
     "output_type": "execute_result"
    }
   ],
   "source": [
    "model.evaluate(X_train, y_train)"
   ]
  },
  {
   "cell_type": "code",
   "execution_count": 69,
   "id": "191d4ad0-b9ea-4701-b3ab-2f20e0136c18",
   "metadata": {},
   "outputs": [
    {
     "name": "stdout",
     "output_type": "stream",
     "text": [
      "Requirement already satisfied: ann_visualizer in c:\\users\\mario\\anaconda3\\lib\\site-packages (2.5)\n",
      "Note: you may need to restart the kernel to use updated packages.\n"
     ]
    }
   ],
   "source": [
    "%pip install ann_visualizer"
   ]
  },
  {
   "cell_type": "code",
   "execution_count": 76,
   "id": "da1492f6-a29c-4b63-b63b-ad171dd5ed10",
   "metadata": {},
   "outputs": [],
   "source": [
    "from matplotlib import pyplot\n",
    "from math import cos, sin, atan\n",
    "\n",
    "\n",
    "class Neuron():\n",
    "    def __init__(self, x, y):\n",
    "        self.x = x\n",
    "        self.y = y\n",
    "\n",
    "    def draw(self, neuron_radius):\n",
    "        circle = pyplot.Circle((self.x, self.y), radius=neuron_radius, fill=False)\n",
    "        pyplot.gca().add_patch(circle)\n",
    "\n",
    "\n",
    "class Layer():\n",
    "    def __init__(self, network, number_of_neurons, number_of_neurons_in_widest_layer):\n",
    "        self.vertical_distance_between_layers = 6\n",
    "        self.horizontal_distance_between_neurons = 2\n",
    "        self.neuron_radius = 0.5\n",
    "        self.number_of_neurons_in_widest_layer = number_of_neurons_in_widest_layer\n",
    "        self.previous_layer = self.__get_previous_layer(network)\n",
    "        self.y = self.__calculate_layer_y_position()\n",
    "        self.neurons = self.__intialise_neurons(number_of_neurons)\n",
    "\n",
    "    def __intialise_neurons(self, number_of_neurons):\n",
    "        neurons = []\n",
    "        x = self.__calculate_left_margin_so_layer_is_centered(number_of_neurons)\n",
    "        for iteration in xrange(number_of_neurons):\n",
    "            neuron = Neuron(x, self.y)\n",
    "            neurons.append(neuron)\n",
    "            x += self.horizontal_distance_between_neurons\n",
    "        return neurons\n",
    "\n",
    "    def __calculate_left_margin_so_layer_is_centered(self, number_of_neurons):\n",
    "        return self.horizontal_distance_between_neurons * (self.number_of_neurons_in_widest_layer - number_of_neurons) / 2\n",
    "\n",
    "    def __calculate_layer_y_position(self):\n",
    "        if self.previous_layer:\n",
    "            return self.previous_layer.y + self.vertical_distance_between_layers\n",
    "        else:\n",
    "            return 0\n",
    "\n",
    "    def __get_previous_layer(self, network):\n",
    "        if len(network.layers) > 0:\n",
    "            return network.layers[-1]\n",
    "        else:\n",
    "            return None\n",
    "\n",
    "    def __line_between_two_neurons(self, neuron1, neuron2):\n",
    "        angle = atan((neuron2.x - neuron1.x) / float(neuron2.y - neuron1.y))\n",
    "        x_adjustment = self.neuron_radius * sin(angle)\n",
    "        y_adjustment = self.neuron_radius * cos(angle)\n",
    "        line = pyplot.Line2D((neuron1.x - x_adjustment, neuron2.x + x_adjustment), (neuron1.y - y_adjustment, neuron2.y + y_adjustment))\n",
    "        pyplot.gca().add_line(line)\n",
    "\n",
    "    def draw(self, layerType=0):\n",
    "        for neuron in self.neurons:\n",
    "            neuron.draw( self.neuron_radius )\n",
    "            if self.previous_layer:\n",
    "                for previous_layer_neuron in self.previous_layer.neurons:\n",
    "                    self.__line_between_two_neurons(neuron, previous_layer_neuron)\n",
    "        # write Text\n",
    "        x_text = self.number_of_neurons_in_widest_layer * self.horizontal_distance_between_neurons\n",
    "        if layerType == 0:\n",
    "            pyplot.text(x_text, self.y, 'Input Layer', fontsize = 12)\n",
    "        elif layerType == -1:\n",
    "            pyplot.text(x_text, self.y, 'Output Layer', fontsize = 12)\n",
    "        else:\n",
    "            pyplot.text(x_text, self.y, 'Hidden Layer '+str(layerType), fontsize = 12)\n",
    "\n",
    "class NeuralNetwork():\n",
    "    def __init__(self, number_of_neurons_in_widest_layer):\n",
    "        self.number_of_neurons_in_widest_layer = number_of_neurons_in_widest_layer\n",
    "        self.layers = []\n",
    "        self.layertype = 0\n",
    "\n",
    "    def add_layer(self, number_of_neurons ):\n",
    "        layer = Layer(self, number_of_neurons, self.number_of_neurons_in_widest_layer)\n",
    "        self.layers.append(layer)\n",
    "\n",
    "    def draw(self):\n",
    "        pyplot.figure()\n",
    "        for i in range( len(self.layers) ):\n",
    "            layer = self.layers[i]\n",
    "            if i == len(self.layers)-1:\n",
    "                i = -1\n",
    "            layer.draw( i )\n",
    "        pyplot.axis('scaled')\n",
    "        pyplot.axis('off')\n",
    "        pyplot.title( 'Neural Network architecture', fontsize=15 )\n",
    "        pyplot.show()\n",
    "\n",
    "class DrawNN():\n",
    "    def __init__( self, neural_network ):\n",
    "        self.neural_network = neural_network\n",
    "\n",
    "    def draw( self ):\n",
    "        widest_layer = max( self.neural_network )\n",
    "        network = NeuralNetwork( widest_layer )\n",
    "        for l in self.neural_network:\n",
    "            network.add_layer(l)\n",
    "        network.draw()"
   ]
  },
  {
   "cell_type": "code",
   "execution_count": 78,
   "id": "c2e4cb81-38cd-45e6-ad70-6ffa3506aba8",
   "metadata": {},
   "outputs": [
    {
     "ename": "TypeError",
     "evalue": "'Sequential' object is not iterable",
     "output_type": "error",
     "traceback": [
      "\u001b[1;31m---------------------------------------------------------------------------\u001b[0m",
      "\u001b[1;31mTypeError\u001b[0m                                 Traceback (most recent call last)",
      "\u001b[1;32m<ipython-input-78-a392c1ba509f>\u001b[0m in \u001b[0;36m<module>\u001b[1;34m\u001b[0m\n\u001b[0;32m      1\u001b[0m \u001b[0mnetwork\u001b[0m \u001b[1;33m=\u001b[0m \u001b[0mDrawNN\u001b[0m\u001b[1;33m(\u001b[0m\u001b[0mmodel\u001b[0m\u001b[1;33m)\u001b[0m\u001b[1;33m\u001b[0m\u001b[1;33m\u001b[0m\u001b[0m\n\u001b[1;32m----> 2\u001b[1;33m \u001b[0mnetwork\u001b[0m\u001b[1;33m.\u001b[0m\u001b[0mdraw\u001b[0m\u001b[1;33m(\u001b[0m\u001b[1;33m)\u001b[0m\u001b[1;33m\u001b[0m\u001b[1;33m\u001b[0m\u001b[0m\n\u001b[0m",
      "\u001b[1;32m<ipython-input-76-e475b667ef0f>\u001b[0m in \u001b[0;36mdraw\u001b[1;34m(self)\u001b[0m\n\u001b[0;32m     96\u001b[0m \u001b[1;33m\u001b[0m\u001b[0m\n\u001b[0;32m     97\u001b[0m     \u001b[1;32mdef\u001b[0m \u001b[0mdraw\u001b[0m\u001b[1;33m(\u001b[0m \u001b[0mself\u001b[0m \u001b[1;33m)\u001b[0m\u001b[1;33m:\u001b[0m\u001b[1;33m\u001b[0m\u001b[1;33m\u001b[0m\u001b[0m\n\u001b[1;32m---> 98\u001b[1;33m         \u001b[0mwidest_layer\u001b[0m \u001b[1;33m=\u001b[0m \u001b[0mmax\u001b[0m\u001b[1;33m(\u001b[0m \u001b[0mself\u001b[0m\u001b[1;33m.\u001b[0m\u001b[0mneural_network\u001b[0m \u001b[1;33m)\u001b[0m\u001b[1;33m\u001b[0m\u001b[1;33m\u001b[0m\u001b[0m\n\u001b[0m\u001b[0;32m     99\u001b[0m         \u001b[0mnetwork\u001b[0m \u001b[1;33m=\u001b[0m \u001b[0mNeuralNetwork\u001b[0m\u001b[1;33m(\u001b[0m \u001b[0mwidest_layer\u001b[0m \u001b[1;33m)\u001b[0m\u001b[1;33m\u001b[0m\u001b[1;33m\u001b[0m\u001b[0m\n\u001b[0;32m    100\u001b[0m         \u001b[1;32mfor\u001b[0m \u001b[0ml\u001b[0m \u001b[1;32min\u001b[0m \u001b[0mself\u001b[0m\u001b[1;33m.\u001b[0m\u001b[0mneural_network\u001b[0m\u001b[1;33m:\u001b[0m\u001b[1;33m\u001b[0m\u001b[1;33m\u001b[0m\u001b[0m\n",
      "\u001b[1;31mTypeError\u001b[0m: 'Sequential' object is not iterable"
     ]
    }
   ],
   "source": [
    "network = DrawNN(model)\n",
    "network.draw()"
   ]
  }
 ],
 "metadata": {
  "kernelspec": {
   "display_name": "Python 3",
   "language": "python",
   "name": "python3"
  },
  "language_info": {
   "codemirror_mode": {
    "name": "ipython",
    "version": 3
   },
   "file_extension": ".py",
   "mimetype": "text/x-python",
   "name": "python",
   "nbconvert_exporter": "python",
   "pygments_lexer": "ipython3",
   "version": "3.8.8"
  }
 },
 "nbformat": 4,
 "nbformat_minor": 5
}
